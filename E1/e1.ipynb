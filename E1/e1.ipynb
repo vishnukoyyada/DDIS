{
 "cells": [
  {
   "cell_type": "markdown",
   "metadata": {},
   "source": []
  },
  {
   "cell_type": "markdown",
   "metadata": {},
   "source": []
  },
  {
   "cell_type": "markdown",
   "metadata": {},
   "source": [
    "gcloud container node-pools create vishnu-pool \\\n",
    "  --project ddis-course \\\n",
    "  --cluster ddis-cluster \\\n",
    "  --num-nodes 1 \\\n",
    "  --machine-type e2-highcpu-8 \\\n",
    "  --disk-size 20GiB \\\n",
    "  --zone us-east1-c\n",
    "\n",
    "\n",
    "## This is to create a new node pool on cluster"
   ]
  },
  {
   "cell_type": "markdown",
   "metadata": {},
   "source": [
    "kubectl apply -f /Users/vishnuvardhan/Documents/FHKiel/DDIS/E1/postgres-deployment-pvc.yaml --validate=false\n",
    "\n",
    "## Downloaded and installed postgres (deployed) using yaml file"
   ]
  },
  {
   "cell_type": "markdown",
   "metadata": {},
   "source": [
    "## Genral info To start and stop the node pools for that we have to reduce nodes to 0.\n",
    "\n",
    "gcloud container clusters resize ddis-cluster --node-pool vishnu-pool --num-nodes 0 --zone us-east1-c --project ddis-course\n",
    "\n",
    "gcloud container clusters resize ddis-cluster --node-pool vishnu-pool --num-nodes 1 --zone us-east1-c --project ddis-course\n",
    "\n"
   ]
  },
  {
   "cell_type": "markdown",
   "metadata": {},
   "source": [
    "## To connect postgresql conatiner which is running on kubernetes.\n",
    "kubectl exec -it <your-postgres-pod>  -- psql -U postgres\n",
    "EX: kubectl exec -it postgres-deployment-85b5dd695-kvfdv  -- psql -U postgres\n"
   ]
  },
  {
   "cell_type": "markdown",
   "metadata": {},
   "source": [
    "## Now Create the database.\n",
    "CREATE DATABASE the_shop;\n",
    "\n",
    "## Switch to the database\n",
    "\\c the_shop\n",
    "\n",
    "## Create Tables and indexs \n",
    "\n"
   ]
  },
  {
   "cell_type": "markdown",
   "metadata": {},
   "source": [
    "## now about data.\n",
    "1) i have data already now so need to copy from that loaction to pod\n",
    "\n",
    "kubectl cp /path/to/users.csv <postgres_pod_name>:/tmp/users.csv\n",
    "\n",
    "ex:  users.cv file location:  /Users/vishnuvardhan/Downloads/users.csv \n",
    "\n",
    "\n",
    "2) Then copy from the file in pod.\n",
    "COPY users FROM '/path/to/users.csv' DELIMITER ',' CSV HEADER;\n",
    "\n",
    "\n",
    "\n"
   ]
  },
  {
   "cell_type": "markdown",
   "metadata": {},
   "source": [
    "# Checki pvc is properly working or not.\n",
    "-> First exit from shell \\q\n",
    "-> Then enter\n",
    "# kubectl get pvc \n",
    "and check whether it is bound or not \n",
    "\n"
   ]
  },
  {
   "cell_type": "markdown",
   "metadata": {},
   "source": [
    "## Resize the cluster using this command\n",
    "\n",
    "gcloud container clusters resize ddis-cluster --project ddis-course --node-pool vishnu-pool --num-nodes=0 --zone us-east1-c\n"
   ]
  }
 ],
 "metadata": {
  "language_info": {
   "name": "python"
  }
 },
 "nbformat": 4,
 "nbformat_minor": 2
}
